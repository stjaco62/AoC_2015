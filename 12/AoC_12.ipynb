{
 "cells": [
  {
   "cell_type": "code",
   "execution_count": 41,
   "id": "c427517a",
   "metadata": {},
   "outputs": [
    {
     "name": "stdout",
     "output_type": "stream",
     "text": [
      "Puzzle 1: The sum of the numbers is: 111754\n",
      "Puzzle 2: The sum of the numbers is: 65402\n"
     ]
    }
   ],
   "source": [
    "# Advent of Code 2015, Day 12\n",
    "import json\n",
    "\n",
    "def get_data(filename):\n",
    "    with open(filename, \"r\") as file:\n",
    "        for line in file:\n",
    "            line = line.strip()\n",
    "    return line\n",
    "        \n",
    "def get_numbers(s):\n",
    "    l_nums = []\n",
    "    negative = False\n",
    "    num = 0\n",
    "    in_digit = False\n",
    "    for ind in range(len(s)):\n",
    "        if s[ind] == \"-\":\n",
    "            negative = True\n",
    "            if in_digit:\n",
    "                if negative:\n",
    "                    num = -num\n",
    "                l_nums.append(num)\n",
    "                negative = False\n",
    "                num = 0\n",
    "                in_digit = False\n",
    "        elif s[ind].isdigit():\n",
    "            digit = int(s[ind])\n",
    "            in_digit = True\n",
    "            num = 10 * num + digit\n",
    "        else:\n",
    "            if in_digit:\n",
    "                if negative:\n",
    "                    num = -num\n",
    "                l_nums.append(num)\n",
    "                num = 0\n",
    "                in_digit = False\n",
    "            negative = False\n",
    "    return l_nums\n",
    "\n",
    "def make_json(s):\n",
    "    s_json = json.loads(s)\n",
    "    return s_json\n",
    "        \n",
    "def calc_json(s_json):\n",
    "    if type(s_json) == int:\n",
    "        return s_json\n",
    "    if type(s_json) == list:\n",
    "        return sum([calc_json(i) for i in s_json])\n",
    "    if type(s_json) != dict:\n",
    "        return 0\n",
    "    if 'red' in s_json.values():\n",
    "        return 0\n",
    "    return calc_json(list(s_json.values()))\n",
    "    \n",
    "# Main Program\n",
    "s = get_data(\"Puzzle.txt\")\n",
    "\n",
    "l_nums = get_numbers(s)\n",
    "print(\"Puzzle 1: The sum of the numbers is:\", sum(l_nums))\n",
    "\n",
    "s_json = make_json(s)\n",
    "print(\"Puzzle 2: The sum of the numbers is:\", calc_json(s_json))\n"
   ]
  },
  {
   "cell_type": "code",
   "execution_count": null,
   "id": "b2340922",
   "metadata": {},
   "outputs": [],
   "source": []
  }
 ],
 "metadata": {
  "kernelspec": {
   "display_name": "Python 3 (ipykernel)",
   "language": "python",
   "name": "python3"
  },
  "language_info": {
   "codemirror_mode": {
    "name": "ipython",
    "version": 3
   },
   "file_extension": ".py",
   "mimetype": "text/x-python",
   "name": "python",
   "nbconvert_exporter": "python",
   "pygments_lexer": "ipython3",
   "version": "3.10.2"
  }
 },
 "nbformat": 4,
 "nbformat_minor": 5
}
