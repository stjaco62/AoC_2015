{
 "cells": [
  {
   "cell_type": "code",
   "execution_count": 10,
   "id": "9e1c1d41",
   "metadata": {},
   "outputs": [
    {
     "name": "stdout",
     "output_type": "stream",
     "text": [
      "Puzzle 1: The maximum score is: 21367368\n",
      "Puzzle 2: For 500 calories the maximum score is: 1766400\n"
     ]
    }
   ],
   "source": [
    "# Advent of Code 2015, Day 15\n",
    "from itertools import product\n",
    "def get_data(filename):\n",
    "    l_ingredients = []\n",
    "    with open(filename, \"r\") as file:\n",
    "        for line in file:\n",
    "            line = line.strip()\n",
    "            name, characteristics = line.split(\": \")\n",
    "            characteristics = characteristics.split(\", \")\n",
    "            char_val = []\n",
    "            for char in characteristics:\n",
    "                _, val = char.split(\" \")\n",
    "                val = int(val)\n",
    "                char_val.append(val)\n",
    "            c, d, f, t, cal = char_val\n",
    "            ingredient = (name, c, d, f, t, cal)\n",
    "            l_ingredients.append(ingredient)\n",
    "    return l_ingredients\n",
    "\n",
    "def create_l_weights(sum_weight, num_ingredients):\n",
    "    l_weights = []\n",
    "    l_w = [x for x in range(sum_weight + 1)]\n",
    "    for weights in list(product(l_w, repeat = num_ingredients)):\n",
    "        if sum(weights) == sum_weight:\n",
    "            l_weights.append(weights)\n",
    "    return l_weights\n",
    "\n",
    "def calc_score(l_ingredients, weights):\n",
    "    score = 1\n",
    "    for property in range(1, 5):\n",
    "        prop_score = 0\n",
    "        for ingredient_ind in range(len(l_ingredients)):\n",
    "            prop_score += l_ingredients[ingredient_ind][property] * weights[ingredient_ind]\n",
    "        prop_score = max(0, prop_score)\n",
    "        score *= prop_score   \n",
    "    return score\n",
    "\n",
    "def is_calories_fivehundred(l_ingredients, weights):\n",
    "    calories = 0\n",
    "    for ingredient_ind in range(len(l_ingredients)):\n",
    "        #print(l_ingredients[ingredient_ind][5], weights[ingredient_ind])\n",
    "        calories += l_ingredients[ingredient_ind][5] * weights[ingredient_ind]\n",
    "    if calories == 500:\n",
    "        return True\n",
    "    else:\n",
    "        return False\n",
    "\n",
    "\n",
    "# Main Program\n",
    "num_teaspoons = 100\n",
    "l_ingredients = get_data(\"Puzzle.txt\")\n",
    "l_weights = create_l_weights(num_teaspoons, len(l_ingredients))\n",
    "\n",
    "\n",
    "max_score = 0\n",
    "for weights in l_weights:\n",
    "    score = calc_score(l_ingredients, weights)\n",
    "    if score > max_score:\n",
    "        max_score = score\n",
    "        \n",
    "print(\"Puzzle 1: The maximum score is:\", max_score)\n",
    "\n",
    "max_score = 0\n",
    "for weights in l_weights:\n",
    "    if is_calories_fivehundred(l_ingredients, weights):\n",
    "        score = calc_score(l_ingredients, weights)\n",
    "        if score > max_score:\n",
    "            max_score = score\n",
    "        \n",
    "print(\"Puzzle 2: For 500 calories the maximum score is:\", max_score)\n",
    "\n",
    "            "
   ]
  },
  {
   "cell_type": "code",
   "execution_count": 12,
   "id": "387064c3",
   "metadata": {},
   "outputs": [
    {
     "name": "stdout",
     "output_type": "stream",
     "text": [
      "('Sprinkles', 2, 0, -2, 0, 3)\n",
      "('Butterscotch', 0, 5, -3, 0, 3)\n",
      "('Chocolate', 0, 0, 5, -1, 8)\n",
      "('Candy', 0, -1, 0, 5, 8)\n"
     ]
    }
   ],
   "source": [
    "for ingredient in (l_ingredients):\n",
    "    print (ingredient)"
   ]
  },
  {
   "cell_type": "code",
   "execution_count": null,
   "id": "8776b017",
   "metadata": {},
   "outputs": [],
   "source": []
  }
 ],
 "metadata": {
  "kernelspec": {
   "display_name": "Python 3 (ipykernel)",
   "language": "python",
   "name": "python3"
  },
  "language_info": {
   "codemirror_mode": {
    "name": "ipython",
    "version": 3
   },
   "file_extension": ".py",
   "mimetype": "text/x-python",
   "name": "python",
   "nbconvert_exporter": "python",
   "pygments_lexer": "ipython3",
   "version": "3.10.2"
  }
 },
 "nbformat": 4,
 "nbformat_minor": 5
}
