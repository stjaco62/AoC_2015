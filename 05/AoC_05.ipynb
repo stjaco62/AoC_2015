{
 "cells": [
  {
   "cell_type": "code",
   "execution_count": 16,
   "id": "248b51bf",
   "metadata": {},
   "outputs": [
    {
     "name": "stdout",
     "output_type": "stream",
     "text": [
      "238 nice words according to first rule set.\n",
      "69 nice words according to second rule set.\n"
     ]
    }
   ],
   "source": [
    "# Advent of Code 2015, Day 05\n",
    "def get_data(filename):\n",
    "    l_words = []\n",
    "    with open(filename, \"r\") as file:\n",
    "        for line in file:\n",
    "            line = line.strip()\n",
    "            l_words.append(line)\n",
    "    return l_words\n",
    "\n",
    "def has_three_vowels(word):\n",
    "    num_vowels = 0\n",
    "    for char in word:\n",
    "        if char in [\"a\", \"e\", \"i\", \"o\", \"u\"]:\n",
    "            num_vowels += 1\n",
    "            if num_vowels == 3:\n",
    "                return True\n",
    "    return False\n",
    "\n",
    "def has_double_char(word):\n",
    "    for i in range(len(word) - 1):\n",
    "        if word[i] == word[i + 1]:\n",
    "            return True\n",
    "    return False\n",
    "\n",
    "def has_unwanted(word):\n",
    "    unwanted = [\"ab\", \"cd\", \"pq\", \"xy\"]\n",
    "    for uw in unwanted:\n",
    "        if uw in word:\n",
    "            return True\n",
    "    return False\n",
    "\n",
    "def has_double_double(word):\n",
    "    for i in range(len(word) - 1):\n",
    "        pattern = word[i: i + 2]\n",
    "        if word.count(pattern) >= 2:\n",
    "            return True\n",
    "    return False\n",
    "        \n",
    "def has_double_between(word):\n",
    "    for i in range(len(word) - 2):\n",
    "        if word[i] == word[i + 2]:\n",
    "            return True\n",
    "    return False\n",
    "\n",
    "\n",
    "# Main Program\n",
    "l_words = get_data(\"Puzzle.txt\")\n",
    "count = 0\n",
    "for word in l_words:\n",
    "    if has_three_vowels(word) and has_double_char(word) and not(has_unwanted(word)):\n",
    "        count += 1        \n",
    "print(count, \"nice words according to first rule set.\")\n",
    "\n",
    "count = 0\n",
    "for word in l_words:\n",
    "    if has_double_double(word) and has_double_between(word):\n",
    "        count += 1\n",
    "        \n",
    "print(count, \"nice words according to second rule set.\")\n",
    "        "
   ]
  },
  {
   "cell_type": "code",
   "execution_count": null,
   "id": "de6d30d3",
   "metadata": {},
   "outputs": [],
   "source": []
  }
 ],
 "metadata": {
  "kernelspec": {
   "display_name": "Python 3 (ipykernel)",
   "language": "python",
   "name": "python3"
  },
  "language_info": {
   "codemirror_mode": {
    "name": "ipython",
    "version": 3
   },
   "file_extension": ".py",
   "mimetype": "text/x-python",
   "name": "python",
   "nbconvert_exporter": "python",
   "pygments_lexer": "ipython3",
   "version": "3.10.2"
  }
 },
 "nbformat": 4,
 "nbformat_minor": 5
}
