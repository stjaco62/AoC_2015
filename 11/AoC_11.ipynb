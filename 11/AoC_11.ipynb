{
 "cells": [
  {
   "cell_type": "code",
   "execution_count": 42,
   "id": "061e03aa",
   "metadata": {},
   "outputs": [
    {
     "name": "stdout",
     "output_type": "stream",
     "text": [
      "Puzzle 1: Next legal password is: cqjxxyzz\n",
      "Puzzle 2: Next legal password is: cqkaabcc\n"
     ]
    }
   ],
   "source": [
    "# Advent of Code 2015, Day 11\n",
    "def next_pwd(pwd):\n",
    "    pwd = pwd[::-1]\n",
    "    for ind in range(len(pwd)):\n",
    "        if pwd[ind] != \"z\":\n",
    "            char = chr(ord(pwd[ind]) + 1)\n",
    "            pwd = pwd[:ind] + char + pwd[ind + 1:]\n",
    "            pwd = pwd[::-1]\n",
    "            return pwd\n",
    "        else:\n",
    "            pwd = pwd[:ind] + \"a\" + pwd[ind + 1:]\n",
    "            \n",
    "def has_straight3(pwd):\n",
    "    for ind in range(len(pwd) - 2):\n",
    "        if ord(pwd[ind]) == ord(pwd[ind + 1]) - 1 == ord(pwd[ind + 2]) - 2:\n",
    "            return True\n",
    "    return False\n",
    "\n",
    "def has_iol(pwd):\n",
    "    if \"i\" in pwd or \"o\" in pwd or \"l\" in pwd:\n",
    "        return True\n",
    "    return False\n",
    "\n",
    "def has_2pairs(pwd):\n",
    "    for ind in range(len(pwd) - 1):\n",
    "        if pwd[ind] == pwd[ind + 1]:\n",
    "            char1 = pwd[ind]\n",
    "            for ind2 in range(ind + 2, len(pwd) - 1):\n",
    "                if pwd[ind2] == pwd[ind2 + 1] and pwd[ind2] != char1:\n",
    "                    return True\n",
    "    return False\n",
    "\n",
    "# Main Program\n",
    "#pwd = \"abcdefgh\"  # Test 1, Result should be \"abcdffaa\"\n",
    "#pwd = \"ghijklmn\" # Test 2, Result should be \"ghjaabcc\"\n",
    "pwd = \"cqjxjnds\" # Real Puzzle, Result = ???\n",
    "\n",
    "while True:\n",
    "    pwd = next_pwd(pwd)\n",
    "    if has_straight3(pwd) and not(has_iol(pwd)) and has_2pairs(pwd):\n",
    "        print(\"Puzzle 1: Next legal password is:\", pwd)\n",
    "        break\n",
    "        \n",
    "while True:\n",
    "    pwd = next_pwd(pwd)\n",
    "    if has_straight3(pwd) and not(has_iol(pwd)) and has_2pairs(pwd):\n",
    "        print(\"Puzzle 2: Next legal password is:\", pwd)\n",
    "        break"
   ]
  },
  {
   "cell_type": "code",
   "execution_count": null,
   "id": "73eb66a4",
   "metadata": {},
   "outputs": [],
   "source": []
  }
 ],
 "metadata": {
  "kernelspec": {
   "display_name": "Python 3 (ipykernel)",
   "language": "python",
   "name": "python3"
  },
  "language_info": {
   "codemirror_mode": {
    "name": "ipython",
    "version": 3
   },
   "file_extension": ".py",
   "mimetype": "text/x-python",
   "name": "python",
   "nbconvert_exporter": "python",
   "pygments_lexer": "ipython3",
   "version": "3.10.2"
  }
 },
 "nbformat": 4,
 "nbformat_minor": 5
}
