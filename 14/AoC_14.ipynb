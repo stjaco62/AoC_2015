{
 "cells": [
  {
   "cell_type": "code",
   "execution_count": 19,
   "id": "28c60ad9",
   "metadata": {},
   "outputs": [
    {
     "name": "stdout",
     "output_type": "stream",
     "text": [
      "Puzzle 1: The maximum distance is: 2655\n",
      "Puzzle 2: The maximum points are:  1059\n"
     ]
    }
   ],
   "source": [
    "# Advent of Code 2015, Day 14\n",
    "def get_data(filename):\n",
    "    l_reindeers = []\n",
    "    with open(filename, \"r\") as file:\n",
    "        for line in file:\n",
    "            line = line.strip()\n",
    "            name, _, _, speed, _, _, duration, _, _, _, _, _, _, rest, _ = line.split(\" \")\n",
    "            speed = int(speed)\n",
    "            duration = int(duration)\n",
    "            rest = int(rest)\n",
    "            l_reindeers.append((name, speed, duration, rest))\n",
    "    return l_reindeers\n",
    "            \n",
    "def calc_distance(reindeer, race_duration):\n",
    "    distance = 0\n",
    "    time = 0\n",
    "    name, speed, duration, rest = reindeer\n",
    "    while True:\n",
    "        if time + duration < race_duration:\n",
    "            time += duration\n",
    "            distance += speed * duration\n",
    "        else:\n",
    "            for second in range(duration):\n",
    "                time += 1\n",
    "                distance += speed\n",
    "                if time == race_duration:\n",
    "                    return distance\n",
    "        if time + rest < race_duration:\n",
    "            time += rest\n",
    "        else:\n",
    "            return distance\n",
    "            \n",
    "def get_leader(l_reindeers, race_d):\n",
    "    max_distance = 0\n",
    "    for reindeer in l_reindeers:\n",
    "        distance = calc_distance(reindeer, race_d)\n",
    "        if distance > max_distance:\n",
    "            max_distance = distance\n",
    "            l_leader = [reindeer[0]]\n",
    "        elif distance == max_distance:\n",
    "            l_leader.append(reindeer[0])\n",
    "    return l_leader\n",
    "\n",
    "            \n",
    "# Main program\n",
    "race_duration = 2503\n",
    "l_reindeers = get_data(\"Puzzle.txt\")\n",
    "\n",
    "max_distance = 0\n",
    "for reindeer in l_reindeers:\n",
    "    distance = calc_distance(reindeer, race_duration)\n",
    "    if distance > max_distance:\n",
    "        max_distance = distance\n",
    "\n",
    "print(\"Puzzle 1: The maximum distance is:\", max_distance)\n",
    "\n",
    "d_points = {}\n",
    "for reindeer in l_reindeers:\n",
    "    d_points[reindeer[0]] = 0\n",
    "\n",
    "for sec in range(1, race_duration + 1):\n",
    "    l_leader = get_leader(l_reindeers, sec)\n",
    "    for leader in l_leader:\n",
    "        d_points[leader] += 1\n",
    "\n",
    "print(\"Puzzle 2: The maximum points are: \", max(d_points.values()))\n"
   ]
  },
  {
   "cell_type": "code",
   "execution_count": null,
   "id": "8c405c47",
   "metadata": {},
   "outputs": [],
   "source": []
  }
 ],
 "metadata": {
  "kernelspec": {
   "display_name": "Python 3 (ipykernel)",
   "language": "python",
   "name": "python3"
  },
  "language_info": {
   "codemirror_mode": {
    "name": "ipython",
    "version": 3
   },
   "file_extension": ".py",
   "mimetype": "text/x-python",
   "name": "python",
   "nbconvert_exporter": "python",
   "pygments_lexer": "ipython3",
   "version": "3.10.2"
  }
 },
 "nbformat": 4,
 "nbformat_minor": 5
}
