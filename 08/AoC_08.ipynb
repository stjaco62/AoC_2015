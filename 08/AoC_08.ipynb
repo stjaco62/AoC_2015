{
 "cells": [
  {
   "cell_type": "code",
   "execution_count": 78,
   "id": "544c45fc",
   "metadata": {},
   "outputs": [
    {
     "name": "stdout",
     "output_type": "stream",
     "text": [
      "The total difference is  1350\n",
      "The total difference is  2085\n"
     ]
    }
   ],
   "source": [
    "# Advent of Code 2015, Day 08\n",
    "def get_data(filename):\n",
    "    l_strings = []\n",
    "    with open(filename, \"r\") as file:\n",
    "        for line in file:\n",
    "            line = line.strip()\n",
    "            l_strings.append(line)\n",
    "    return l_strings\n",
    "\n",
    "def check_doublequotes(s):\n",
    "    if not(s[0] == '\"' and s[-1] == '\"'):\n",
    "        print(s)\n",
    "        \n",
    "def decode_string(s):\n",
    "    # remove doublequotes at begin and end\n",
    "    s = s[1:-1]\n",
    "    # replace \\\\ by \\   ... doesn't work. So first escape it and change it to \\ at the end\n",
    "    s = s.replace(\"\\\\\\\\\", \"XXXX\")\n",
    "    # replace \\\" by \"\n",
    "    s = s.replace(\"\\\\\\\"\", \"\\\"\")\n",
    "    # replace \\xdd by the ascii char behind dd without regex\n",
    "    while \"\\\\x\" in s:\n",
    "        ind = s.find(\"\\\\x\")\n",
    "        digit = s[ind + 2:ind + 4]\n",
    "        digit = int(digit, 16)\n",
    "        char = chr(digit)\n",
    "        #print(char)\n",
    "        s = s[:ind] + char + s[ind + 4:]\n",
    "    s = s.replace(\"XXXX\", \"\\\\\")\n",
    "    return s\n",
    "\n",
    "def encode_string(s):\n",
    "    s = s.replace(\"\\\\\", \"\\\\\\\\\")\n",
    "    s = s.replace('\\\"', '\\\\\\\"')\n",
    "    s = '\"' + s + '\"'\n",
    "    return s\n",
    "    \n",
    "#  Main Program\n",
    "l_strings = get_data(\"Puzzle.txt\")\n",
    "total_gross = 0\n",
    "total_net = 0\n",
    "\n",
    "for s in l_strings:\n",
    "    total_gross += len(s)\n",
    "    total_net += len(decode_string(s))\n",
    "print(\"The total difference is \", total_gross - total_net)\n",
    "\n",
    "total_gross = 0\n",
    "total_net = 0\n",
    "for s in l_strings:\n",
    "    #print(len(s), len(encode_string(s)))\n",
    "    total_net += len(s)\n",
    "    total_gross += len(encode_string(s))\n",
    "print(\"The total difference is \", total_gross - total_net)"
   ]
  }
 ],
 "metadata": {
  "kernelspec": {
   "display_name": "Python 3 (ipykernel)",
   "language": "python",
   "name": "python3"
  },
  "language_info": {
   "codemirror_mode": {
    "name": "ipython",
    "version": 3
   },
   "file_extension": ".py",
   "mimetype": "text/x-python",
   "name": "python",
   "nbconvert_exporter": "python",
   "pygments_lexer": "ipython3",
   "version": "3.10.2"
  }
 },
 "nbformat": 4,
 "nbformat_minor": 5
}
