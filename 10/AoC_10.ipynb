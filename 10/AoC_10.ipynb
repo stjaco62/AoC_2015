{
 "cells": [
  {
   "cell_type": "code",
   "execution_count": 23,
   "id": "153e6ead",
   "metadata": {},
   "outputs": [
    {
     "name": "stdout",
     "output_type": "stream",
     "text": [
      "Puzzle 1: The result consists of  360154 characters.\n",
      "Puzzle 2: The result consists of  5103798 characters.\n"
     ]
    }
   ],
   "source": [
    "import itertools as it\n",
    "\n",
    "def create_subsequent_string(s):\n",
    "    new_s = \"\"\n",
    "    for char, lc in it.groupby(s):\n",
    "        #print(str(len(list(lc))))\n",
    "        new_s = new_s + str(len(list(lc)))\n",
    "        new_s = new_s + char\n",
    "    return new_s\n",
    "\n",
    "\n",
    "# Main Program\n",
    "test = False\n",
    "if test:\n",
    "    start = \"1\"\n",
    "    loops = 4\n",
    "else:\n",
    "    start = \"1113122113\"\n",
    "    loops = 40\n",
    "\n",
    "for _ in range(loops):\n",
    "    start = create_subsequent_string(start)\n",
    "    \n",
    "print(\"Puzzle 1: The result consists of \", len(start), \"characters.\")\n",
    "\n",
    "for _ in range(10):\n",
    "    start = create_subsequent_string(start)\n",
    "    \n",
    "print(\"Puzzle 2: The result consists of \", len(start), \"characters.\")\n",
    "\n",
    "    \n"
   ]
  },
  {
   "cell_type": "code",
   "execution_count": null,
   "id": "d66a9a11",
   "metadata": {},
   "outputs": [],
   "source": []
  }
 ],
 "metadata": {
  "kernelspec": {
   "display_name": "Python 3 (ipykernel)",
   "language": "python",
   "name": "python3"
  },
  "language_info": {
   "codemirror_mode": {
    "name": "ipython",
    "version": 3
   },
   "file_extension": ".py",
   "mimetype": "text/x-python",
   "name": "python",
   "nbconvert_exporter": "python",
   "pygments_lexer": "ipython3",
   "version": "3.10.2"
  }
 },
 "nbformat": 4,
 "nbformat_minor": 5
}
