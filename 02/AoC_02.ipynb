{
 "cells": [
  {
   "cell_type": "code",
   "execution_count": 14,
   "id": "82fab946",
   "metadata": {},
   "outputs": [
    {
     "name": "stdout",
     "output_type": "stream",
     "text": [
      "Total Paper required: 1606483\n",
      "Total Ribbon required: 3842356\n"
     ]
    }
   ],
   "source": [
    "# AoC 2015, Day 02\n",
    "def get_data(filename):\n",
    "    l_boxes = []\n",
    "    with open(filename, \"r\") as file:\n",
    "        for line in file:\n",
    "            line = line.strip()\n",
    "            l, w, h = line.split(\"x\")\n",
    "            l = int(l)\n",
    "            w = int(w)\n",
    "            h = int(h)\n",
    "            l_boxes.append((l, w, h))\n",
    "    return l_boxes\n",
    "\n",
    "def calc_paper(box):\n",
    "    l, w, h = box\n",
    "    paper = 2 * l * w + 2 * l * h + 2 * w * h + l * w * h // max(l, w, h)\n",
    "    return paper\n",
    "\n",
    "def calc_ribbon(box):\n",
    "    l, w, h = box\n",
    "    ribbon = 2 * (w + l + h) - 2 * max(w, l, h)\n",
    "    ribbon += w * l * h\n",
    "    return ribbon\n",
    "\n",
    "\n",
    "\n",
    "\n",
    "\n",
    "# Main Program\n",
    "l_boxes = get_data(\"Puzzle.txt\")\n",
    "total_paper = 0\n",
    "total_ribbon = 0\n",
    "for box in l_boxes:\n",
    "    #print(box, calc_ribbon(box))\n",
    "    total_ribbon += calc_ribbon(box)\n",
    "    total_paper += calc_paper(box)\n",
    "\n",
    "print(\"Total Paper required:\", total_paper)\n",
    "print(\"Total Ribbon required:\", total_ribbon)\n",
    "    \n",
    "    "
   ]
  },
  {
   "cell_type": "code",
   "execution_count": null,
   "id": "5dc1663d",
   "metadata": {},
   "outputs": [],
   "source": []
  }
 ],
 "metadata": {
  "kernelspec": {
   "display_name": "Python 3 (ipykernel)",
   "language": "python",
   "name": "python3"
  },
  "language_info": {
   "codemirror_mode": {
    "name": "ipython",
    "version": 3
   },
   "file_extension": ".py",
   "mimetype": "text/x-python",
   "name": "python",
   "nbconvert_exporter": "python",
   "pygments_lexer": "ipython3",
   "version": "3.10.2"
  }
 },
 "nbformat": 4,
 "nbformat_minor": 5
}
