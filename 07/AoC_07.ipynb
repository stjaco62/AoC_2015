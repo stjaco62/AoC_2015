{
 "cells": [
  {
   "cell_type": "code",
   "execution_count": 13,
   "id": "881bf108",
   "metadata": {},
   "outputs": [
    {
     "name": "stdout",
     "output_type": "stream",
     "text": [
      "a has value: 40149\n"
     ]
    }
   ],
   "source": [
    "# Advent of Code 2015, Day 07\n",
    "def get_data(filename):\n",
    "    l_instructions = []\n",
    "    with open(filename, \"r\") as file:\n",
    "        for line in file:\n",
    "            line = line.strip()\n",
    "            inp, out = line.split(\" -> \")\n",
    "            if inp.isdigit():\n",
    "                instruction = (\"mov\", int(inp), int(inp), out)\n",
    "            elif \"AND\" in inp:\n",
    "                var1, var2 = inp.split(\" AND \")\n",
    "                instruction = (\"and\", var1, var2, out)\n",
    "            elif \"OR\" in inp:\n",
    "                var1, var2 = inp.split(\" OR \")\n",
    "                instruction = (\"or\", var1, var2, out)\n",
    "            elif \"LSHIFT\" in inp:\n",
    "                var1, var2 = inp.split(\" LSHIFT \")\n",
    "                instruction = (\"lshift\", var1, int(var2), out)\n",
    "            elif \"RSHIFT\" in inp:\n",
    "                var1, var2 = inp.split(\" RSHIFT \")\n",
    "                instruction = (\"rshift\", var1, int(var2), out)\n",
    "            elif \"NOT\" in inp:\n",
    "                var1 = inp[4:]\n",
    "                instruction = (\"not\", var1, var1, out)\n",
    "            elif not(\" \" in inp):\n",
    "                instruction = (\"mov\", inp, inp, out)\n",
    "            else:\n",
    "                print(\"Error: Unknown command\", inp, out)\n",
    "            l_instructions.append((instruction))\n",
    "    return l_instructions\n",
    "\n",
    "def exec_instruction(d_mem, instruction):\n",
    "    cmd, var1, var2, out = instruction\n",
    "    if not(str(var1).isdigit()):\n",
    "        var1 = d_mem[var1]\n",
    "    if not(str(var2).isdigit()):\n",
    "        var2 = d_mem[var2]\n",
    "    var1 = int(var1)\n",
    "    var2 = int(var2)\n",
    "    if cmd == \"mov\":\n",
    "        d_mem[out] = var1\n",
    "    elif cmd == \"and\":\n",
    "        d_mem[out] = var1 & var2\n",
    "    elif cmd == \"or\":\n",
    "        d_mem[out] = var1 | var2\n",
    "    elif cmd == \"lshift\":\n",
    "        d_mem[out] = var1 << var2\n",
    "    elif cmd == \"rshift\":\n",
    "        d_mem[out] = var1 >> var2\n",
    "    elif cmd == \"not\":\n",
    "        d_mem[out] = 65535 - var1\n",
    "    else:\n",
    "        print(\"Error: Command not found!\")\n",
    "    return d_mem\n",
    "    \n",
    "# Main Program\n",
    "d_mem = {}\n",
    "l_instructions = get_data(\"Puzzle.txt\")\n",
    "\n",
    "while True:\n",
    "    all_instructions_executed = True\n",
    "    for instruction in l_instructions:\n",
    "        cmd, var1, var2, out = instruction\n",
    "        if (str(var1).isdigit() or var1 in d_mem) and (str(var2).isdigit() or var2 in d_mem):\n",
    "            d_mem = exec_instruction(d_mem, instruction)\n",
    "        else:\n",
    "            all_instructions_executed = False\n",
    "    if all_instructions_executed:\n",
    "        break\n",
    "\n",
    "print(\"a has value:\", d_mem[\"a\"])\n",
    "    \n",
    "# Puzzle 2 by cheating: Changed the puzzle input by updating line \"xxx -> b\"  "
   ]
  },
  {
   "cell_type": "code",
   "execution_count": null,
   "id": "c537f171",
   "metadata": {},
   "outputs": [],
   "source": []
  }
 ],
 "metadata": {
  "kernelspec": {
   "display_name": "Python 3 (ipykernel)",
   "language": "python",
   "name": "python3"
  },
  "language_info": {
   "codemirror_mode": {
    "name": "ipython",
    "version": 3
   },
   "file_extension": ".py",
   "mimetype": "text/x-python",
   "name": "python",
   "nbconvert_exporter": "python",
   "pygments_lexer": "ipython3",
   "version": "3.10.2"
  }
 },
 "nbformat": 4,
 "nbformat_minor": 5
}
