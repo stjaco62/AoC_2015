{
 "cells": [
  {
   "cell_type": "code",
   "execution_count": 19,
   "id": "2c812632",
   "metadata": {},
   "outputs": [
    {
     "name": "stdout",
     "output_type": "stream",
     "text": [
      "Puzzle 1: There are 1638 ways to fill the containers with 150 l\n",
      "Puzzle 2: There are 17 ways to fill 4 containers with 150 l\n"
     ]
    }
   ],
   "source": [
    "# Advent of Code 2015, Day 17\n",
    "import itertools\n",
    "\n",
    "def get_data(filename):\n",
    "    l_containers = []\n",
    "    with open(filename, \"r\") as file:\n",
    "        for line in file:\n",
    "            line = line.strip()\n",
    "            line = int(line)\n",
    "            l_containers.append(line)\n",
    "    return l_containers\n",
    "\n",
    "def find_min_max(eggnog, l_containers):\n",
    "    l_containers.sort()\n",
    "    for i in range(len(l_containers)):\n",
    "        if sum(l_containers[:i]) >= eggnog:\n",
    "            max_num = i\n",
    "            break\n",
    "    l_containers = l_containers[::-1]\n",
    "    for i in range(len(l_containers)):\n",
    "        if sum(l_containers[:i]) >= eggnog:\n",
    "            min_num = i\n",
    "            break\n",
    "    return min_num, max_num\n",
    "        \n",
    "# Main Program\n",
    "eggnog = 150\n",
    "l_containers = get_data(\"Puzzle.txt\")\n",
    "min_num, max_num = find_min_max(eggnog, l_containers)\n",
    "\n",
    "comb = 0\n",
    "min_cont = max_num\n",
    "for num in range(min_num, max_num + 1):\n",
    "    for sl in itertools.combinations(l_containers, num):\n",
    "        if sum(sl) == eggnog:\n",
    "            comb += 1\n",
    "            if len(sl) <= min_cont:\n",
    "                min_cont = len(sl)\n",
    "                \n",
    "print(\"Puzzle 1: There are\", comb, \"ways to fill the containers with 150 l\")\n",
    "\n",
    "comb = 0\n",
    "for sl in itertools.combinations(l_containers, min_cont):\n",
    "        if sum(sl) == eggnog:\n",
    "            comb += 1\n",
    "\n",
    "print(\"Puzzle 2: There are\", comb, \"ways to fill\", min_cont, \"containers with 150 l\")"
   ]
  },
  {
   "cell_type": "code",
   "execution_count": null,
   "id": "33a8a2a7",
   "metadata": {},
   "outputs": [],
   "source": []
  }
 ],
 "metadata": {
  "kernelspec": {
   "display_name": "Python 3 (ipykernel)",
   "language": "python",
   "name": "python3"
  },
  "language_info": {
   "codemirror_mode": {
    "name": "ipython",
    "version": 3
   },
   "file_extension": ".py",
   "mimetype": "text/x-python",
   "name": "python",
   "nbconvert_exporter": "python",
   "pygments_lexer": "ipython3",
   "version": "3.10.2"
  }
 },
 "nbformat": 4,
 "nbformat_minor": 5
}
