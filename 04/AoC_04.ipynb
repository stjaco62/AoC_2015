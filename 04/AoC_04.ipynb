{
 "cells": [
  {
   "cell_type": "code",
   "execution_count": 2,
   "id": "2c9319c1",
   "metadata": {},
   "outputs": [
    {
     "name": "stdout",
     "output_type": "stream",
     "text": [
      "00000fe1c139a2c710e9a5c03ec1af03\n",
      "ckczppom117946\n",
      "00000028023e3b4729684757f8dc3fbf\n",
      "ckczppom3938038\n"
     ]
    }
   ],
   "source": [
    "# Advent of Code 2015, Day 04\n",
    "import hashlib\n",
    "\n",
    "puzzle = \"ckczppom\"\n",
    "\n",
    "i = 0\n",
    "while True:\n",
    "    s2hash = puzzle + str(i)\n",
    "    result = hashlib.md5(s2hash.encode()).hexdigest()\n",
    "    \n",
    "    if result[:5] == \"00000\":\n",
    "        print(result)\n",
    "        print(s2hash)\n",
    "        break\n",
    "    i += 1\n",
    "    \n",
    "while True:\n",
    "    s2hash = puzzle + str(i)\n",
    "    result = hashlib.md5(s2hash.encode()).hexdigest()\n",
    "    \n",
    "    if result[:6] == \"000000\":\n",
    "        print(result)\n",
    "        print(s2hash)\n",
    "        break\n",
    "    i += 1"
   ]
  },
  {
   "cell_type": "code",
   "execution_count": null,
   "id": "ab596ae6",
   "metadata": {},
   "outputs": [],
   "source": []
  }
 ],
 "metadata": {
  "kernelspec": {
   "display_name": "Python 3 (ipykernel)",
   "language": "python",
   "name": "python3"
  },
  "language_info": {
   "codemirror_mode": {
    "name": "ipython",
    "version": 3
   },
   "file_extension": ".py",
   "mimetype": "text/x-python",
   "name": "python",
   "nbconvert_exporter": "python",
   "pygments_lexer": "ipython3",
   "version": "3.10.2"
  }
 },
 "nbformat": 4,
 "nbformat_minor": 5
}
