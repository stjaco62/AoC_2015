{
 "cells": [
  {
   "cell_type": "code",
   "execution_count": 28,
   "id": "8cd0619f",
   "metadata": {},
   "outputs": [
    {
     "name": "stdout",
     "output_type": "stream",
     "text": [
      "Puzzle 1: The first house is 776160\n",
      "Puzzle 2: The first house is 786240\n"
     ]
    }
   ],
   "source": [
    "# Advent of Code 2015, Day 20\n",
    "import math\n",
    "\n",
    "def get_divider(num):\n",
    "    l_divider = [num]\n",
    "    for i in range(1, num):\n",
    "        if num % i == 0:\n",
    "            l_divider.append(i)\n",
    "    return l_divider\n",
    "\n",
    "def get_divider2(num):\n",
    "    l_divider = [num]\n",
    "    for i in range(1, num):\n",
    "        if (num % i == 0) and (num // i <= 50):\n",
    "            l_divider.append(i)\n",
    "    return l_divider\n",
    "    \n",
    "\n",
    "# Main Program\n",
    "expected_presents = 33100000\n",
    "goal_value = expected_presents // 10\n",
    "\n",
    "# To speed up the program, step the while-loop with factorials ...\n",
    "fak = math.factorial(7)\n",
    "\n",
    "j = fak\n",
    "while True:\n",
    "    l_divider = get_divider(j)\n",
    "    if sum(l_divider) >= goal_value:\n",
    "        print(\"Puzzle 1: The first house is\", j)\n",
    "        break\n",
    "    j += fak\n",
    "\n",
    "goal_value = expected_presents // 11\n",
    "j = fak\n",
    "while True:\n",
    "    l_divider = get_divider2(j)\n",
    "    if sum(l_divider) >= goal_value:\n",
    "        print(\"Puzzle 2: The first house is\", j)\n",
    "        break\n",
    "    j += fak\n",
    "\n",
    "        \n",
    "            "
   ]
  }
 ],
 "metadata": {
  "kernelspec": {
   "display_name": "Python 3 (ipykernel)",
   "language": "python",
   "name": "python3"
  },
  "language_info": {
   "codemirror_mode": {
    "name": "ipython",
    "version": 3
   },
   "file_extension": ".py",
   "mimetype": "text/x-python",
   "name": "python",
   "nbconvert_exporter": "python",
   "pygments_lexer": "ipython3",
   "version": "3.10.2"
  }
 },
 "nbformat": 4,
 "nbformat_minor": 5
}
