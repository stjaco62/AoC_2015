{
 "cells": [
  {
   "cell_type": "code",
   "execution_count": 17,
   "id": "654fc0db",
   "metadata": {},
   "outputs": [
    {
     "name": "stdout",
     "output_type": "stream",
     "text": [
      "Puzzle1: The maximum total happiness is: 733\n",
      "Puzzle2: The maximum total happiness including me is: 725\n"
     ]
    }
   ],
   "source": [
    "# Advent of Code 2015, Day 13\n",
    "from itertools import permutations\n",
    "\n",
    "def get_data(filename):\n",
    "    l_guests = []\n",
    "    d_happiness = {}\n",
    "    with open (filename, \"r\") as file:\n",
    "        for line in file:\n",
    "            line = line.strip()\n",
    "            line = line[:-1]\n",
    "            guest1, _, gainlose, points, _, _, _, _, _, _, guest2 = line.split(\" \")\n",
    "            if gainlose == \"gain\":\n",
    "                points = int(points)\n",
    "            else:\n",
    "                points = -int(points)\n",
    "            if not(guest1 in l_guests):\n",
    "                l_guests.append(guest1)\n",
    "            if not(guest2 in l_guests):\n",
    "                l_guests.append(guest2)\n",
    "            if (guest2, guest1) in d_happiness:\n",
    "                d_happiness[(guest2, guest1)] += points\n",
    "                d_happiness[(guest1, guest2)] = d_happiness[(guest2, guest1)]\n",
    "            else:\n",
    "                d_happiness[(guest1, guest2)] = points               \n",
    "    return l_guests, d_happiness\n",
    "\n",
    "def calc_happiness(l_guests, d_happiness):\n",
    "    total_happiness = 0\n",
    "    for i in range(len(l_guests) - 1):\n",
    "        total_happiness += d_happiness[(l_guests[i], l_guests[i + 1])]\n",
    "    total_happiness += d_happiness[(l_guests[0], l_guests[-1])]\n",
    "    return total_happiness\n",
    "\n",
    "def add_me(l_guests, d_happiness):\n",
    "    for guest in l_guests:\n",
    "        d_happiness[(guest, \"me\")] = 0\n",
    "        d_happiness[(\"me\", guest)] = 0\n",
    "    l_guests.append(\"me\")\n",
    "    return l_guests, d_happiness\n",
    "\n",
    "# Main Program\n",
    "l_guests, d_happiness = get_data(\"Puzzle.txt\")\n",
    "max_total_happiness = 0\n",
    "for perm in list(permutations(l_guests)):\n",
    "    total_happiness = calc_happiness(perm, d_happiness)\n",
    "    if total_happiness > max_total_happiness:\n",
    "        max_total_happiness = total_happiness\n",
    "\n",
    "print(\"Puzzle1: The maximum total happiness is:\", max_total_happiness)\n",
    "\n",
    "l_guests, d_happiness = add_me(l_guests, d_happiness)\n",
    "max_total_happiness = 0\n",
    "for perm in list(permutations(l_guests)):\n",
    "    total_happiness = calc_happiness(perm, d_happiness)\n",
    "    if total_happiness > max_total_happiness:\n",
    "        max_total_happiness = total_happiness\n",
    "\n",
    "print(\"Puzzle2: The maximum total happiness including me is:\", max_total_happiness)\n",
    "\n",
    "    "
   ]
  },
  {
   "cell_type": "code",
   "execution_count": null,
   "id": "8c178901",
   "metadata": {},
   "outputs": [],
   "source": []
  }
 ],
 "metadata": {
  "kernelspec": {
   "display_name": "Python 3 (ipykernel)",
   "language": "python",
   "name": "python3"
  },
  "language_info": {
   "codemirror_mode": {
    "name": "ipython",
    "version": 3
   },
   "file_extension": ".py",
   "mimetype": "text/x-python",
   "name": "python",
   "nbconvert_exporter": "python",
   "pygments_lexer": "ipython3",
   "version": "3.10.2"
  }
 },
 "nbformat": 4,
 "nbformat_minor": 5
}
