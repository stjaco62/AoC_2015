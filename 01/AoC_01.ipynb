{
 "cells": [
  {
   "cell_type": "code",
   "execution_count": 6,
   "id": "03acc8a4",
   "metadata": {},
   "outputs": [
    {
     "name": "stdout",
     "output_type": "stream",
     "text": [
      "74\n",
      "Reached level -1 at step 1795\n"
     ]
    }
   ],
   "source": [
    "# AoC 2015, Day 1\n",
    "def get_data(filename):\n",
    "    l_level = []\n",
    "    with open(filename, \"r\") as file:\n",
    "        for line in file:\n",
    "            line = line.strip()\n",
    "            l_level.append(line)\n",
    "    return l_level\n",
    "\n",
    "def calc_final_level(level):\n",
    "    up = level.count(\"(\")\n",
    "    down = level.count(\")\")\n",
    "    return up - down\n",
    "\n",
    "def when_base_minus_one(level):\n",
    "    current_level = 0\n",
    "    for ind, char in enumerate(level):\n",
    "        if char == \"(\":\n",
    "            current_level += 1\n",
    "        elif char == \")\":\n",
    "            current_level -= 1\n",
    "        else:\n",
    "            print(\"Error: Unknown Character\")\n",
    "        if current_level == -1:\n",
    "            print (\"Reached level -1 at step\", ind + 1)\n",
    "            return ind + 1\n",
    "    print(\"Never reached level -1\")\n",
    "    return\n",
    "\n",
    "# Main Program\n",
    "l_level = get_data(\"Puzzle.txt\")\n",
    "for level in l_level:\n",
    "    print(calc_final_level(level))\n",
    "    when_base_minus_one(level)\n",
    "    \n"
   ]
  },
  {
   "cell_type": "code",
   "execution_count": null,
   "id": "005b53ab",
   "metadata": {},
   "outputs": [],
   "source": []
  }
 ],
 "metadata": {
  "kernelspec": {
   "display_name": "Python 3 (ipykernel)",
   "language": "python",
   "name": "python3"
  },
  "language_info": {
   "codemirror_mode": {
    "name": "ipython",
    "version": 3
   },
   "file_extension": ".py",
   "mimetype": "text/x-python",
   "name": "python",
   "nbconvert_exporter": "python",
   "pygments_lexer": "ipython3",
   "version": "3.10.2"
  }
 },
 "nbformat": 4,
 "nbformat_minor": 5
}
