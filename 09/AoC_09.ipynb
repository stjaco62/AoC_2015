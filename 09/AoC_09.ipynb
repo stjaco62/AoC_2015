{
 "cells": [
  {
   "cell_type": "code",
   "execution_count": 25,
   "id": "b3c94215",
   "metadata": {},
   "outputs": [
    {
     "name": "stdout",
     "output_type": "stream",
     "text": [
      "Puzzle 1: The mininmal distance is: 141\n"
     ]
    }
   ],
   "source": [
    "# Advent of Code 2015, Day 09\n",
    "from itertools import permutations\n",
    "\n",
    "def get_data(filename):\n",
    "    d_dist = {}\n",
    "    l_cities = []\n",
    "    with open(filename, \"r\") as file:\n",
    "        for line in file:\n",
    "            line = line.strip()\n",
    "            cities, distance = line.split(\" = \")\n",
    "            distance = int(distance)\n",
    "            city1, city2 = cities.split(\" to \")\n",
    "            if not(city1 in l_cities):\n",
    "                l_cities.append(city1)\n",
    "            if not(city2 in l_cities):\n",
    "                l_cities.append(city2)\n",
    "            d_dist[(city1, city2)] = distance\n",
    "            d_dist[(city2, city1)] = distance\n",
    "    return l_cities, d_dist\n",
    "\n",
    "def calc_total_dist(l_cities, d_dist):\n",
    "    total = 0\n",
    "    for i in range(len(l_cities) - 1):\n",
    "        total += d_dist[(l_cities[i], l_cities[i + 1])]\n",
    "    return total\n",
    "            \n",
    "            \n",
    "            \n",
    "            \n",
    "            \n",
    "            \n",
    "# Main program\n",
    "l_cities, d_dist = get_data(\"Puzzle.txt\")\n",
    "min_dist = calc_total_dist(l_cities, d_dist)\n",
    "for l in list(permutations(l_cities)):\n",
    "    dist = calc_total_dist(l, d_dist)\n",
    "    if dist < min_dist:\n",
    "        min_dist = dist\n",
    "        \n",
    "print(\"Puzzle 1: The mininmal distance is:\", min_dist)\n",
    "\n"
   ]
  },
  {
   "cell_type": "code",
   "execution_count": 11,
   "id": "2069f7a3",
   "metadata": {},
   "outputs": [
    {
     "name": "stdout",
     "output_type": "stream",
     "text": [
      "[(1, 2, 3), (1, 3, 2), (2, 1, 3), (2, 3, 1), (3, 1, 2), (3, 2, 1)]\n"
     ]
    }
   ],
   "source": [
    "l = [1, 2, 3]\n",
    "print(list(permutations(l)))\n"
   ]
  },
  {
   "cell_type": "code",
   "execution_count": null,
   "id": "bbeb0506",
   "metadata": {},
   "outputs": [],
   "source": []
  }
 ],
 "metadata": {
  "kernelspec": {
   "display_name": "Python 3 (ipykernel)",
   "language": "python",
   "name": "python3"
  },
  "language_info": {
   "codemirror_mode": {
    "name": "ipython",
    "version": 3
   },
   "file_extension": ".py",
   "mimetype": "text/x-python",
   "name": "python",
   "nbconvert_exporter": "python",
   "pygments_lexer": "ipython3",
   "version": "3.10.2"
  }
 },
 "nbformat": 4,
 "nbformat_minor": 5
}
