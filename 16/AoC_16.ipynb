{
 "cells": [
  {
   "cell_type": "code",
   "execution_count": 11,
   "id": "341046fd",
   "metadata": {},
   "outputs": [
    {
     "name": "stdout",
     "output_type": "stream",
     "text": [
      "Puzzle 1: The correct aunt Sue has the number:  40\n",
      "Puzzle 2: The correct aunt Sue has the number:  241\n"
     ]
    }
   ],
   "source": [
    "# Advent of Code 2015, Day 16\n",
    "\n",
    "def get_pattern(filename):\n",
    "    d_compounds = {}\n",
    "    with open(filename, \"r\") as file:\n",
    "        for line in file:\n",
    "            line = line.strip()\n",
    "            compound, num = line.split(\": \")\n",
    "            num = int(num)\n",
    "            d_compounds[compound] = num\n",
    "    return d_compounds\n",
    "\n",
    "def get_puzzle(filename):\n",
    "    d_aunts = {}\n",
    "    with open(filename, \"r\") as file:\n",
    "        for line in file:\n",
    "            line = line.strip()\n",
    "            aunt, compounds = line.split(\": \", maxsplit = 1)\n",
    "            aunt = int(aunt.split(\" \")[1])\n",
    "            l_compounds = compounds.split(\", \")\n",
    "            d_aunt = {}\n",
    "            for comp in l_compounds:\n",
    "                comp, num = comp.split(\": \")\n",
    "                num = int(num)\n",
    "                d_aunt[comp] = num\n",
    "            d_aunts[aunt] = d_aunt\n",
    "    return d_aunts\n",
    "            \n",
    "def is_correct_aunt(d_compounds, d_aunt_comps):\n",
    "    for comp in d_compounds:\n",
    "        if comp in d_aunt_comps:\n",
    "            if d_compounds[comp] != d_aunt_comps[comp]:\n",
    "                return False\n",
    "    return True\n",
    "            \n",
    "def is_correct_aunt2(d_compounds, d_aunt_comps):\n",
    "    for comp in d_compounds:\n",
    "        if comp in d_aunt_comps:\n",
    "            if comp in [\"cats\", \"trees\"]:\n",
    "                if d_compounds[comp] >= d_aunt_comps[comp]:\n",
    "                    return False\n",
    "            elif comp in [\"pomeranians\", \"goldfish\"]:\n",
    "                if d_compounds[comp] <= d_aunt_comps[comp]:\n",
    "                    return False\n",
    "            else:\n",
    "                if d_compounds[comp] != d_aunt_comps[comp]:\n",
    "                    return False\n",
    "            \n",
    "    return True\n",
    "            \n",
    "            \n",
    "            \n",
    "# Main Program\n",
    "d_compounds = get_pattern(\"pattern.txt\")\n",
    "d_aunts = get_puzzle(\"puzzle.txt\")\n",
    "\n",
    "\n",
    "for aunt in d_aunts:\n",
    "    if is_correct_aunt(d_compounds, d_aunts[aunt]):\n",
    "        print(\"Puzzle 1: The correct aunt Sue has the number: \", aunt)\n",
    "        \n",
    "for aunt in d_aunts:\n",
    "    if is_correct_aunt2(d_compounds, d_aunts[aunt]):\n",
    "        print(\"Puzzle 2: The correct aunt Sue has the number: \", aunt)\n",
    "        "
   ]
  },
  {
   "cell_type": "code",
   "execution_count": null,
   "id": "99f6c32f",
   "metadata": {},
   "outputs": [],
   "source": []
  }
 ],
 "metadata": {
  "kernelspec": {
   "display_name": "Python 3 (ipykernel)",
   "language": "python",
   "name": "python3"
  },
  "language_info": {
   "codemirror_mode": {
    "name": "ipython",
    "version": 3
   },
   "file_extension": ".py",
   "mimetype": "text/x-python",
   "name": "python",
   "nbconvert_exporter": "python",
   "pygments_lexer": "ipython3",
   "version": "3.10.2"
  }
 },
 "nbformat": 4,
 "nbformat_minor": 5
}
